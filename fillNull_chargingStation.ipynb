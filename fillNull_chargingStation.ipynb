{
 "cells": [
  {
   "cell_type": "code",
   "execution_count": 1,
   "metadata": {},
   "outputs": [],
   "source": [
    "import pandas as pd\n",
    "\n",
    "data = pd.read_csv('./data/충전소 좌표.csv')\n",
    "cstation = pd.read_csv('./data/전기차 충전소 현황.txt', sep = \"\\t\", engine='python', encoding = 'utf-8')   # charging station"
   ]
  },
  {
   "cell_type": "code",
   "execution_count": 2,
   "metadata": {
    "scrolled": true
   },
   "outputs": [
    {
     "name": "stdout",
     "output_type": "stream",
     "text": [
      "서울특별시 광진구 뚝섬로 52길 74\n",
      "서울특별시 금천구 범안로 17길 1\n",
      "서울특별시 노원구 노원길 130\n",
      "서울특별시 서초구 우면동 368-1\n",
      "서울특별시 서초구 방배동 884-2\n",
      "서울특별시 서초구 방배동 844-1\n",
      "서울특별시 서초구 내곡동 6-7\n",
      "서울특별시 성동구 마장로27길 13\n",
      "서울특별시 성동구 하왕십리동 843\n",
      "서울특별시 성동구 상왕십리동 289-5\n",
      "서울특별시 성동구 상왕십리동 302-2\n",
      "서울특별시 성동구 하왕십리동 674-1\n",
      "서울특별시 성북구 하월곡동 88-387\n",
      "서울특별시 송파구 오금로 27길 29\n",
      "서울 송파구 장지동 516\n",
      "서울특별시 송파구 장지동 453-1 위례22단지 정문\n"
     ]
    }
   ],
   "source": [
    "redata_i = []\n",
    "\n",
    "for i in data.index:\n",
    "    if data.loc[i, 'Lat'] == 0:\n",
    "        print(cstation.loc[i, '주소'])\n",
    "        redata_i.append(i)"
   ]
  },
  {
   "cell_type": "code",
   "execution_count": 4,
   "metadata": {},
   "outputs": [
    {
     "name": "stdout",
     "output_type": "stream",
     "text": [
      "127.077539 37.529438\n",
      "126.893920 37.468087\n",
      "127.084646 37.671892\n",
      "127.024273 37.459226\n",
      "126.998662 37.489008\n",
      "126.995330 37.491794\n",
      "127.068824 37.455569\n",
      "127.033947 37.568615\n",
      "127.025755 37.566116\n",
      "127.024092 37.567107\n",
      "127.024103 37.567100\n",
      "127.026271 37.566311\n",
      "127.030909 37.605130\n",
      "127.119435 37.509685\n",
      "127.138624 37.476428\n",
      "127.142832 37.479348\n"
     ]
    }
   ],
   "source": [
    "redata = ['37.529438, 127.077539','37.468087, 126.893920','37.671892, 127.084646','37.459226, 127.024273','37.489008, 126.998662','37.491794, 126.995330','37.455569, 127.068824','37.568615, 127.033947','37.566116, 127.025755','37.567107, 127.024092','37.567100, 127.024103','37.566311, 127.026271','37.605130, 127.030909','37.509685, 127.119435','37.476428, 127.138624','37.479348, 127.142832']\n",
    "cnt = 0\n",
    "\n",
    "for i in redata_i:\n",
    "    lng, lat = redata[cnt].split()\n",
    "    cnt += 1\n",
    "    data.loc[i, 'Lat'] = lat\n",
    "    data.loc[i, 'Lng'] = lng[:-1]\n",
    "    print(data.loc[i, 'Lat'],data.loc[i, 'Lng'])\n"
   ]
  },
  {
   "cell_type": "code",
   "execution_count": 5,
   "metadata": {},
   "outputs": [],
   "source": [
    "# for i in data.index:\n",
    "#     if data.loc[i, 'Lat'] == 0:\n",
    "#         print(cstation.loc[i, '주소'])\n",
    "#         redata_i.append(i) "
   ]
  },
  {
   "cell_type": "code",
   "execution_count": 11,
   "metadata": {},
   "outputs": [],
   "source": [
    "toCsv = data.iloc[:,1:3]\n",
    "toCsv.to_csv('./data/충전소 좌표L.csv')  #최종"
   ]
  }
 ],
 "metadata": {
  "kernelspec": {
   "display_name": "Python 3",
   "language": "python",
   "name": "python3"
  },
  "language_info": {
   "codemirror_mode": {
    "name": "ipython",
    "version": 3
   },
   "file_extension": ".py",
   "mimetype": "text/x-python",
   "name": "python",
   "nbconvert_exporter": "python",
   "pygments_lexer": "ipython3",
   "version": "3.7.4"
  }
 },
 "nbformat": 4,
 "nbformat_minor": 2
}
