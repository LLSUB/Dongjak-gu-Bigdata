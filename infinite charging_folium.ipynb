{
 "cells": [
  {
   "cell_type": "code",
   "execution_count": 25,
   "metadata": {},
   "outputs": [],
   "source": [
    "import pandas as pd\n",
    "import folium"
   ]
  },
  {
   "cell_type": "code",
   "execution_count": 26,
   "metadata": {},
   "outputs": [],
   "source": [
    "data = pd.read_csv('./data/충전소 좌표L.csv')"
   ]
  },
  {
   "cell_type": "code",
   "execution_count": 27,
   "metadata": {},
   "outputs": [],
   "source": [
    "cstation_m = folium.Map(\n",
    "    location=[37.5498587, 126.8549675],\n",
    "    zoom_star=15\n",
    ")\n",
    "\n",
    "for i in data.index:\n",
    "#     if i == 10:\n",
    "#         break\n",
    "#     print(float(data.loc[i,'Lng']), float(data.loc[i, 'Lat']))\n",
    "    folium.Marker(\n",
    "        location = [float(data.loc[i,'Lng']), float(data.loc[i, 'Lat'])],\n",
    "        icon=folium.Icon(color='red', popup='charging station', icon='star')\n",
    "    ).add_to(cstation_m)\n",
    "        \n",
    "cstation_m.save('./data/map.html')"
   ]
  }
 ],
 "metadata": {
  "kernelspec": {
   "display_name": "Python 3",
   "language": "python",
   "name": "python3"
  },
  "language_info": {
   "codemirror_mode": {
    "name": "ipython",
    "version": 3
   },
   "file_extension": ".py",
   "mimetype": "text/x-python",
   "name": "python",
   "nbconvert_exporter": "python",
   "pygments_lexer": "ipython3",
   "version": "3.7.4"
  }
 },
 "nbformat": 4,
 "nbformat_minor": 2
}
